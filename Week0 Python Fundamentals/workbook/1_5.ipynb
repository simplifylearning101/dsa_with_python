{
 "cells": [
  {
   "cell_type": "code",
   "execution_count": 1,
   "id": "3e4d5e53",
   "metadata": {},
   "outputs": [
    {
     "name": "stdout",
     "output_type": "stream",
     "text": [
      "10\n",
      "4.140000000000001\n",
      "HELLO\n"
     ]
    }
   ],
   "source": [
    "def process_data(data):\n",
    "    if isinstance(data, int):  # Check if int\n",
    "        return data * 2  # Double it\n",
    "    elif isinstance(data, float):  # Check float\n",
    "        return data + 1.0  # Add 1\n",
    "    elif isinstance(data, str):  # Check string\n",
    "        return data.upper()  # Uppercase\n",
    "    else:\n",
    "        return \"Unknown type\"  # Handle others\n",
    "\n",
    "# Test\n",
    "print(process_data(5))  # 10\n",
    "print(process_data(3.14))  # 4.14\n",
    "print(process_data(\"hello\"))  # HELLO"
   ]
  },
  {
   "cell_type": "code",
   "execution_count": 3,
   "id": "3da86a17",
   "metadata": {},
   "outputs": [
    {
     "name": "stdout",
     "output_type": "stream",
     "text": [
      "10 20\n",
      "20 10\n"
     ]
    }
   ],
   "source": [
    "# Swap two variables without temp\n",
    "a = 10\n",
    "b = 20\n",
    "print(a, b)  # 10 20\n",
    "a, b = b, a  # Python tuple packing\n",
    "print(a, b)  # 20 10"
   ]
  }
 ],
 "metadata": {
  "kernelspec": {
   "display_name": "venv",
   "language": "python",
   "name": "python3"
  },
  "language_info": {
   "codemirror_mode": {
    "name": "ipython",
    "version": 3
   },
   "file_extension": ".py",
   "mimetype": "text/x-python",
   "name": "python",
   "nbconvert_exporter": "python",
   "pygments_lexer": "ipython3",
   "version": "3.13.3"
  }
 },
 "nbformat": 4,
 "nbformat_minor": 5
}
