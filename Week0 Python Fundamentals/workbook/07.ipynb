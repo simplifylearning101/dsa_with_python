{
 "cells": [
  {
   "cell_type": "code",
   "execution_count": 3,
   "id": "2226974b",
   "metadata": {},
   "outputs": [
    {
     "name": "stdout",
     "output_type": "stream",
     "text": [
      "['1', '2', 'Fizz', '4', 'Buzz', 'Fizz', '7', '8', 'Fizz', 'Buzz', '11', 'Fizz', '13', '14', 'FizzBuzz', '16', '17', 'Fizz', '19', 'Buzz']\n"
     ]
    }
   ],
   "source": [
    "def fizzBuzz(n):\n",
    "    result = []  # List\n",
    "    for i in range(1, n+1):  # 1 to n\n",
    "        if i % 15 == 0:  # Both\n",
    "            result.append(\"FizzBuzz\")\n",
    "        elif i % 3 == 0:\n",
    "            result.append(\"Fizz\")\n",
    "        elif i % 5 == 0:\n",
    "            result.append(\"Buzz\")\n",
    "        else:\n",
    "            result.append(str(i))\n",
    "    return result\n",
    "\n",
    "print(fizzBuzz(20))"
   ]
  },
  {
   "cell_type": "code",
   "execution_count": null,
   "id": "35e803e1",
   "metadata": {},
   "outputs": [
    {
     "name": "stdout",
     "output_type": "stream",
     "text": [
      "True\n",
      "False\n"
     ]
    }
   ],
   "source": [
    "# Brute-Force (String convert)\n",
    "# Time: O(d) where d digits, Space: O(d). Pros: Easy. Cons: Uses extra space.\n",
    "\n",
    "def isPalindrome(x):\n",
    "    if x < 0: return False\n",
    "    s = str(x)  # Convert\n",
    "    return s == s[::-1]  # Compare reverse\n",
    "\n",
    "print(isPalindrome(1221))\n",
    "print(isPalindrome(1234))"
   ]
  },
  {
   "cell_type": "code",
   "execution_count": null,
   "id": "18dd6566",
   "metadata": {},
   "outputs": [
    {
     "name": "stdout",
     "output_type": "stream",
     "text": [
      "True\n",
      "False\n"
     ]
    }
   ],
   "source": [
    "# Optimized (Math, no string)\n",
    "# Time: O(d), Space: O(1). Pros: Constant space. Cons: Handle edge cases.\n",
    "def isPalindrome(x):\n",
    "    if x < 0 or (x % 10 == 0 and x != 0): \n",
    "        return False\n",
    "    rev = 0\n",
    "    original = x\n",
    "    while x > 0:  # Reverse\n",
    "        rev = rev * 10 + x % 10  \n",
    "        x //= 10  # use interger division\n",
    "    return original == rev or original == rev // 10  # Handle odd length\n",
    "\n",
    "print(isPalindrome(1221))\n",
    "print(isPalindrome(1234))\n",
    "\n",
    "# Further challenge: Try reversing only half and compare with other half"
   ]
  },
  {
   "cell_type": "code",
   "execution_count": 12,
   "id": "4e3e3c8d",
   "metadata": {},
   "outputs": [
    {
     "name": "stdout",
     "output_type": "stream",
     "text": [
      "10\n",
      "9\n",
      "10\n",
      "16\n",
      "27\n"
     ]
    }
   ],
   "source": [
    "# Roman to Integer\n",
    "# Explanation: Map symbols, add/subtract based on order.\n",
    "# Time: O(n), Space: O(1). Optimal already.\n",
    "\n",
    "def romanToInt(s):\n",
    "    roman = {'I':1,'V':5,'X':10,'L':50,'C':100,'D':500,'M':1000}\n",
    "    total = 0\n",
    "    for i in range(len(s)):\n",
    "        if i < len(s)-1 and roman[s[i]] < roman[s[i+1]]:  # Subtract\n",
    "            total -= roman[s[i]]\n",
    "        else:\n",
    "            total += roman[s[i]]\n",
    "    return total\n",
    "\n",
    "print(romanToInt(\"X\"))\n",
    "print(romanToInt(\"IX\"))\n",
    "print(romanToInt(\"IIX\"))\n",
    "print(romanToInt(\"XVI\"))\n",
    "print(romanToInt(\"XXVII\"))"
   ]
  },
  {
   "cell_type": "code",
   "execution_count": null,
   "id": "256f0532",
   "metadata": {},
   "outputs": [
    {
     "name": "stdout",
     "output_type": "stream",
     "text": [
      "2\n"
     ]
    }
   ],
   "source": [
    "# Add Digits\n",
    "# Time: O(d log num), Space: O(1). Pros: Clear.\n",
    "# 38 → 2 (3+8=11, 1+1=2)\n",
    "def addDigits(num):\n",
    "    while num >= 10:  # Until single\n",
    "        sum_digits = 0\n",
    "        while num > 0:\n",
    "            sum_digits += num % 10\n",
    "            num //= 10\n",
    "        num = sum_digits\n",
    "    return num\n",
    "\n",
    "print(addDigits(38))"
   ]
  },
  {
   "cell_type": "code",
   "execution_count": 18,
   "id": "d2d02de6",
   "metadata": {},
   "outputs": [
    {
     "name": "stdout",
     "output_type": "stream",
     "text": [
      "2\n"
     ]
    }
   ],
   "source": [
    "# Add digit - Optimized (Math: Digital Root)\n",
    "# Time: O(1), Space: O(1). Pros: Instant. Cons: Less intuitive.\n",
    "def addDigits(num):\n",
    "    if num == 0: return 0\n",
    "    return 1 + (num - 1) % 9  # Formula\n",
    "\n",
    "print(addDigits(38))"
   ]
  },
  {
   "cell_type": "code",
   "execution_count": 19,
   "id": "653f8b35",
   "metadata": {},
   "outputs": [
    {
     "name": "stdout",
     "output_type": "stream",
     "text": [
      "True\n"
     ]
    }
   ],
   "source": [
    "# Ugly Number\n",
    "# Explanation: Divide by 2,3,5 until 1.\n",
    "# Time: O(log n), Space: O(1). Optimal.\n",
    "def isUgly(n):\n",
    "    if n <= 0: return False\n",
    "    for p in [2,3,5]:  # Divide\n",
    "        while n % p == 0:\n",
    "            n //= p\n",
    "    return n == 1\n",
    "\n",
    "print(isUgly(6))"
   ]
  }
 ],
 "metadata": {
  "kernelspec": {
   "display_name": "venv",
   "language": "python",
   "name": "python3"
  },
  "language_info": {
   "codemirror_mode": {
    "name": "ipython",
    "version": 3
   },
   "file_extension": ".py",
   "mimetype": "text/x-python",
   "name": "python",
   "nbconvert_exporter": "python",
   "pygments_lexer": "ipython3",
   "version": "3.13.3"
  }
 },
 "nbformat": 4,
 "nbformat_minor": 5
}
