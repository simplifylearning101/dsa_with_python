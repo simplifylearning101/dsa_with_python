{
 "cells": [
  {
   "cell_type": "markdown",
   "id": "76f1520a",
   "metadata": {},
   "source": [
    "## Solutions"
   ]
  },
  {
   "cell_type": "code",
   "execution_count": 1,
   "id": "3d5f55aa",
   "metadata": {},
   "outputs": [
    {
     "name": "stdout",
     "output_type": "stream",
     "text": [
      "Welcome to Python!\n"
     ]
    }
   ],
   "source": [
    "print(\"Welcome to Python!\")"
   ]
  },
  {
   "cell_type": "code",
   "execution_count": 2,
   "id": "26a06ba2",
   "metadata": {},
   "outputs": [
    {
     "name": "stdout",
     "output_type": "stream",
     "text": [
      "Adi\n"
     ]
    }
   ],
   "source": [
    "name = \"Adi\"  # Assign name\n",
    "print(name) "
   ]
  },
  {
   "cell_type": "code",
   "execution_count": 3,
   "id": "70554a24",
   "metadata": {},
   "outputs": [
    {
     "name": "stdout",
     "output_type": "stream",
     "text": [
      "I am 19 years old.\n"
     ]
    }
   ],
   "source": [
    "age = 19\n",
    "print(\"I am \" + str(age) + \" years old.\") "
   ]
  },
  {
   "cell_type": "code",
   "execution_count": 4,
   "id": "3ffafb29",
   "metadata": {},
   "outputs": [
    {
     "name": "stdout",
     "output_type": "stream",
     "text": [
      "5.6\n"
     ]
    }
   ],
   "source": [
    "height = 5.6\n",
    "print(height)"
   ]
  },
  {
   "cell_type": "code",
   "execution_count": 5,
   "id": "d9b713bb",
   "metadata": {},
   "outputs": [
    {
     "name": "stdout",
     "output_type": "stream",
     "text": [
      "True\n"
     ]
    }
   ],
   "source": [
    "is_student = True\n",
    "print(is_student)"
   ]
  },
  {
   "cell_type": "code",
   "execution_count": 6,
   "id": "d72526f4",
   "metadata": {},
   "outputs": [
    {
     "name": "stdout",
     "output_type": "stream",
     "text": [
      "10\n",
      "10\n"
     ]
    }
   ],
   "source": [
    "# Reassign type\n",
    "var = 10  # Int\n",
    "print(var)  # Output: 10\n",
    "var = \"10\"  # Now str\n",
    "print(var)  # Output: 10 (but as string)"
   ]
  },
  {
   "cell_type": "code",
   "execution_count": 7,
   "id": "2aaa745a",
   "metadata": {},
   "outputs": [
    {
     "name": "stdout",
     "output_type": "stream",
     "text": [
      "<class 'int'>\n",
      "<class 'float'>\n",
      "<class 'str'>\n",
      "<class 'bool'>\n"
     ]
    }
   ],
   "source": [
    "# Types\n",
    "print(type(42))  # <class 'int'>\n",
    "print(type(3.14))  # <class 'float'>\n",
    "print(type(\"Hi\"))  # <class 'str'>\n",
    "print(type(True))  # <class 'bool'>"
   ]
  },
  {
   "cell_type": "code",
   "execution_count": 8,
   "id": "9f47ee99",
   "metadata": {},
   "outputs": [
    {
     "name": "stdout",
     "output_type": "stream",
     "text": [
      "Alice is 30 years old and 1.65m tall.\n"
     ]
    }
   ],
   "source": [
    "name = \"Alice\"\n",
    "age = 30\n",
    "height = 1.65\n",
    "print(name + \" is \" + str(age) + \" years old and \" + str(height) + \"m tall.\")"
   ]
  },
  {
   "cell_type": "code",
   "execution_count": 9,
   "id": "5ea0d59d",
   "metadata": {},
   "outputs": [
    {
     "name": "stdout",
     "output_type": "stream",
     "text": [
      "150\n"
     ]
    }
   ],
   "source": [
    "num_str = \"100\"  # String\n",
    "num_int = int(num_str)  # Convert to int\n",
    "result = num_int + 50  # Add\n",
    "print(result)  # Output: 150"
   ]
  },
  {
   "cell_type": "code",
   "execution_count": 10,
   "id": "b8b8fb4c",
   "metadata": {},
   "outputs": [
    {
     "name": "stdout",
     "output_type": "stream",
     "text": [
      "True\n"
     ]
    }
   ],
   "source": [
    "# Boolean from comparison\n",
    "comparison = 5 > 3  # True\n",
    "print(comparison)  # Output: True"
   ]
  }
 ],
 "metadata": {
  "kernelspec": {
   "display_name": "venv",
   "language": "python",
   "name": "python3"
  },
  "language_info": {
   "codemirror_mode": {
    "name": "ipython",
    "version": 3
   },
   "file_extension": ".py",
   "mimetype": "text/x-python",
   "name": "python",
   "nbconvert_exporter": "python",
   "pygments_lexer": "ipython3",
   "version": "3.13.3"
  }
 },
 "nbformat": 4,
 "nbformat_minor": 5
}
