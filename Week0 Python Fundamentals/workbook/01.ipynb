{
 "cells": [
  {
   "cell_type": "code",
   "execution_count": 1,
   "id": "9caf1fde",
   "metadata": {},
   "outputs": [
    {
     "name": "stdout",
     "output_type": "stream",
     "text": [
      "Hello\n"
     ]
    }
   ],
   "source": [
    "print(\"Hello\")"
   ]
  },
  {
   "cell_type": "code",
   "execution_count": 2,
   "id": "c04ca669",
   "metadata": {},
   "outputs": [
    {
     "name": "stdout",
     "output_type": "stream",
     "text": [
      "25\n",
      "30\n",
      "Thirty\n"
     ]
    }
   ],
   "source": [
    "# Creating a variable named 'age' and assigning value 25\n",
    "age = 25  # No need for 'int age =' like in other languages\n",
    "\n",
    "# Printing the variable\n",
    "print(age)  # Output: 25\n",
    "\n",
    "# Reassigning the variable\n",
    "age = 30  # Now age is 30\n",
    "print(age)  # Output: 30\n",
    "\n",
    "# Variables can hold different types over time\n",
    "age = \"Thirty\"  # Now it's a string\n",
    "print(age)  # Output: Thirty"
   ]
  },
  {
   "cell_type": "code",
   "execution_count": 3,
   "id": "e72a8cfd",
   "metadata": {},
   "outputs": [
    {
     "name": "stdout",
     "output_type": "stream",
     "text": [
      "10\n",
      "<class 'int'>\n"
     ]
    }
   ],
   "source": [
    "num = 10  # Assign 10 to num\n",
    "print(num)  # Output: 10\n",
    "print(type(num))  # Output: <class 'int'> - shows the type"
   ]
  },
  {
   "cell_type": "code",
   "execution_count": 4,
   "id": "ccb7a071",
   "metadata": {},
   "outputs": [
    {
     "name": "stdout",
     "output_type": "stream",
     "text": [
      "3.14\n",
      "<class 'float'>\n"
     ]
    }
   ],
   "source": [
    "pi = 3.14  # Assign 3.14\n",
    "print(pi)  # Output: 3.14\n",
    "print(type(pi))  # Output: <class 'float'>"
   ]
  },
  {
   "cell_type": "code",
   "execution_count": 5,
   "id": "a2ffcf12",
   "metadata": {},
   "outputs": [
    {
     "name": "stdout",
     "output_type": "stream",
     "text": [
      "Alice\n",
      "<class 'str'>\n"
     ]
    }
   ],
   "source": [
    "name = \"Alice\"  # Or 'Alice'\n",
    "print(name)  # Output: Alice\n",
    "print(type(name))  # Output: <class 'str'>"
   ]
  },
  {
   "cell_type": "code",
   "execution_count": 6,
   "id": "23a6e983",
   "metadata": {},
   "outputs": [
    {
     "name": "stdout",
     "output_type": "stream",
     "text": [
      "True\n",
      "<class 'bool'>\n"
     ]
    }
   ],
   "source": [
    "is_adult = True  # Or False\n",
    "print(is_adult)  # Output: True\n",
    "print(type(is_adult))  # Output: <class 'bool'>"
   ]
  },
  {
   "cell_type": "markdown",
   "id": "63690af8",
   "metadata": {},
   "source": [
    "## You can convert types using int(), float(), str(), bool()"
   ]
  },
  {
   "cell_type": "code",
   "execution_count": 7,
   "id": "a930a448",
   "metadata": {},
   "outputs": [
    {
     "name": "stdout",
     "output_type": "stream",
     "text": [
      "<class 'int'>\n",
      "<class 'float'>\n"
     ]
    }
   ],
   "source": [
    "num = 10 \n",
    "print(type(num)) \n",
    "num = float(num)\n",
    "print(type(num))"
   ]
  }
 ],
 "metadata": {
  "kernelspec": {
   "display_name": "venv",
   "language": "python",
   "name": "python3"
  },
  "language_info": {
   "codemirror_mode": {
    "name": "ipython",
    "version": 3
   },
   "file_extension": ".py",
   "mimetype": "text/x-python",
   "name": "python",
   "nbconvert_exporter": "python",
   "pygments_lexer": "ipython3",
   "version": "3.13.3"
  }
 },
 "nbformat": 4,
 "nbformat_minor": 5
}
